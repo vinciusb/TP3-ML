{
 "cells": [
  {
   "attachments": {},
   "cell_type": "markdown",
   "metadata": {},
   "source": [
    "### Trabalho Final - Aprendizado de Máquina\n",
    "- Vinícius Braga Freire - 2020054889"
   ]
  },
  {
   "attachments": {},
   "cell_type": "markdown",
   "metadata": {},
   "source": [
    "#### 0. Introdução"
   ]
  },
  {
   "attachments": {},
   "cell_type": "markdown",
   "metadata": {},
   "source": [
    "Este projeto..."
   ]
  },
  {
   "cell_type": "code",
   "execution_count": 1,
   "metadata": {},
   "outputs": [],
   "source": [
    "# !pip install lightgbm"
   ]
  },
  {
   "attachments": {},
   "cell_type": "markdown",
   "metadata": {},
   "source": [
    "#### 1. Processamento de dados"
   ]
  },
  {
   "attachments": {},
   "cell_type": "markdown",
   "metadata": {},
   "source": [
    "Assim, precisamos primeiro extrair e tratar os dados relevantes da nossa base de dados de forma que consigamos aprender sob esses."
   ]
  },
  {
   "attachments": {},
   "cell_type": "markdown",
   "metadata": {},
   "source": [
    "##### 1.1 Projetos"
   ]
  },
  {
   "attachments": {},
   "cell_type": "markdown",
   "metadata": {},
   "source": [
    "O primeiro passo será extrair dados que nos permitam observar as interações entre funcionários e\\nportante\\ncomo as equipes são estruturadas. Dada a chegada de novos dados do projeto IMAGINE (um acrônimo interno da empresa DEXCO), foi reformulada a maneira como iremos modelar e interpretar times neste projeto.\n",
    "\n",
    "O projeto IMAGINE permite que funcionários façam sugestões de projetos internos que sejam inovadores. Funcionários que apresentem ideias boas têm seus projetos aceitos e implantados e, portanto, recebem um bônus em remuneração por tal feito.\n",
    "\n",
    "Desta forma, nosso dado irá nos informar o status (aceito, rejeitado, em processo de implantação, em espera de avaliação) de projetos que foram sugeridos e por quais funcionários.\n",
    "\n",
    "Observe que mais de um funcionário podem trabalhar juntos para sugerirem ideias de projetos. É a partir deste fato que iremos construir um novo dado seguindo as seguintes regras:\n",
    "\n",
    "- Em projetos aceitos e que foram sugeridos por mais de 1 pessoa, devemos sinalizar positivamente que as pessoas envolvidas `DEVEM` trabalhar em equipe. Assim\n",
    "essas pessoas 2 a 2 (cada par possível dentre esse conjunto de pessoas) tem um aval positivo\\ndado que o projeto sugerido por eles foi aceito como uma boa ideia.\n",
    "- Em projetos rejeitados e que foram sugeridos por mais de 1 pessoa, devemos sinalizar negativamente que as pessoas envolvidas `NÃO DEVEM` trabalhar em equipe."
   ]
  },
  {
   "cell_type": "code",
   "execution_count": 2,
   "metadata": {},
   "outputs": [
    {
     "name": "stdout",
     "output_type": "stream",
     "text": [
      "<class 'pandas.core.frame.DataFrame'>\n",
      "RangeIndex: 58730 entries, 0 to 58729\n",
      "Data columns (total 7 columns):\n",
      " #   Column                Non-Null Count  Dtype \n",
      "---  ------                --------------  ----- \n",
      " 0   name                  58716 non-null  object\n",
      " 1   Matricula             58730 non-null  int64 \n",
      " 2   status                58730 non-null  object\n",
      " 3   local                 58729 non-null  object\n",
      " 4   area                  58729 non-null  object\n",
      " 5   data                  58730 non-null  object\n",
      " 6   suggestionsRegarding  27664 non-null  object\n",
      "dtypes: int64(1), object(6)\n",
      "memory usage: 3.1+ MB\n",
      "None\n"
     ]
    },
    {
     "data": {
      "text/html": [
       "<div>\n",
       "<style scoped>\n",
       "    .dataframe tbody tr th:only-of-type {\n",
       "        vertical-align: middle;\n",
       "    }\n",
       "\n",
       "    .dataframe tbody tr th {\n",
       "        vertical-align: top;\n",
       "    }\n",
       "\n",
       "    .dataframe thead th {\n",
       "        text-align: right;\n",
       "    }\n",
       "</style>\n",
       "<table border=\"1\" class=\"dataframe\">\n",
       "  <thead>\n",
       "    <tr style=\"text-align: right;\">\n",
       "      <th></th>\n",
       "      <th>name</th>\n",
       "      <th>Matricula</th>\n",
       "      <th>status</th>\n",
       "      <th>local</th>\n",
       "      <th>area</th>\n",
       "      <th>data</th>\n",
       "      <th>suggestionsRegarding</th>\n",
       "    </tr>\n",
       "  </thead>\n",
       "  <tbody>\n",
       "    <tr>\n",
       "      <th>0</th>\n",
       "      <td>Custometro</td>\n",
       "      <td>10077261</td>\n",
       "      <td>Fila de execução</td>\n",
       "      <td>ADM CENTRAL</td>\n",
       "      <td>CSS-01 - PRESIDENCIA CONSELHO ADM - EC</td>\n",
       "      <td>2/23/2022</td>\n",
       "      <td>NaN</td>\n",
       "    </tr>\n",
       "    <tr>\n",
       "      <th>1</th>\n",
       "      <td>otmizar a temperatura do oléo térmico no desca...</td>\n",
       "      <td>10023570</td>\n",
       "      <td>Fila de execução</td>\n",
       "      <td>FÁB ITAPETININGA</td>\n",
       "      <td>DXCAVAPO61 - Caldeira de Vapor</td>\n",
       "      <td>7/5/2022</td>\n",
       "      <td>Produtividade</td>\n",
       "    </tr>\n",
       "    <tr>\n",
       "      <th>2</th>\n",
       "      <td>limpeza de sensor de nivel</td>\n",
       "      <td>10023570</td>\n",
       "      <td>Concluída</td>\n",
       "      <td>FÁB ITAPETININGA</td>\n",
       "      <td>DXCAVAPO61 - Caldeira de Vapor</td>\n",
       "      <td>10/20/2022</td>\n",
       "      <td>NaN</td>\n",
       "    </tr>\n",
       "    <tr>\n",
       "      <th>3</th>\n",
       "      <td>Segurança sempre!</td>\n",
       "      <td>10023570</td>\n",
       "      <td>Fila de execução</td>\n",
       "      <td>FÁB ITAPETININGA</td>\n",
       "      <td>MDP - Caldeira</td>\n",
       "      <td>11/9/2021</td>\n",
       "      <td>Segurança</td>\n",
       "    </tr>\n",
       "    <tr>\n",
       "      <th>4</th>\n",
       "      <td>Em busca da economia do BPF!</td>\n",
       "      <td>10023570</td>\n",
       "      <td>Fila de execução</td>\n",
       "      <td>FÁB ITAPETININGA</td>\n",
       "      <td>MII-02 - CALDEIRA E UILIDADES - IT</td>\n",
       "      <td>8/22/2019</td>\n",
       "      <td>Redução de Custos</td>\n",
       "    </tr>\n",
       "  </tbody>\n",
       "</table>\n",
       "</div>"
      ],
      "text/plain": [
       "                                                name  Matricula  \\\n",
       "0                                         Custometro   10077261   \n",
       "1  otmizar a temperatura do oléo térmico no desca...   10023570   \n",
       "2                         limpeza de sensor de nivel   10023570   \n",
       "3                                  Segurança sempre!   10023570   \n",
       "4                       Em busca da economia do BPF!   10023570   \n",
       "\n",
       "             status             local                                    area  \\\n",
       "0  Fila de execução       ADM CENTRAL  CSS-01 - PRESIDENCIA CONSELHO ADM - EC   \n",
       "1  Fila de execução  FÁB ITAPETININGA          DXCAVAPO61 - Caldeira de Vapor   \n",
       "2         Concluída  FÁB ITAPETININGA          DXCAVAPO61 - Caldeira de Vapor   \n",
       "3  Fila de execução  FÁB ITAPETININGA                          MDP - Caldeira   \n",
       "4  Fila de execução  FÁB ITAPETININGA      MII-02 - CALDEIRA E UILIDADES - IT   \n",
       "\n",
       "         data suggestionsRegarding  \n",
       "0   2/23/2022                  NaN  \n",
       "1    7/5/2022        Produtividade  \n",
       "2  10/20/2022                  NaN  \n",
       "3   11/9/2021            Segurança  \n",
       "4   8/22/2019    Redução de Custos  "
      ]
     },
     "execution_count": 2,
     "metadata": {},
     "output_type": "execute_result"
    }
   ],
   "source": [
    "import pandas as pd\n",
    "import numpy as np\n",
    "\n",
    "projetos_df = pd.read_csv(\"./data/in/imagine.csv\", encoding=\"utf-8\", sep=\",\")\n",
    "print(projetos_df.info())\n",
    "projetos_df.head()"
   ]
  },
  {
   "attachments": {},
   "cell_type": "markdown",
   "metadata": {},
   "source": [
    "Observe que temos alguns dados faltantes, principalmente na coluna `Name`, que será importante para nós agruparmos os dados por projeto para acharmos as equipes. Assim, vamos limpar os dados."
   ]
  },
  {
   "cell_type": "code",
   "execution_count": 3,
   "metadata": {},
   "outputs": [
    {
     "data": {
      "text/html": [
       "<div>\n",
       "<style scoped>\n",
       "    .dataframe tbody tr th:only-of-type {\n",
       "        vertical-align: middle;\n",
       "    }\n",
       "\n",
       "    .dataframe tbody tr th {\n",
       "        vertical-align: top;\n",
       "    }\n",
       "\n",
       "    .dataframe thead th {\n",
       "        text-align: right;\n",
       "    }\n",
       "</style>\n",
       "<table border=\"1\" class=\"dataframe\">\n",
       "  <thead>\n",
       "    <tr style=\"text-align: right;\">\n",
       "      <th></th>\n",
       "      <th>name</th>\n",
       "      <th>Matricula</th>\n",
       "      <th>status</th>\n",
       "    </tr>\n",
       "  </thead>\n",
       "  <tbody>\n",
       "    <tr>\n",
       "      <th>0</th>\n",
       "      <td>Custometro</td>\n",
       "      <td>10077261</td>\n",
       "      <td>Fila de execução</td>\n",
       "    </tr>\n",
       "    <tr>\n",
       "      <th>1</th>\n",
       "      <td>otmizar a temperatura do oléo térmico no desca...</td>\n",
       "      <td>10023570</td>\n",
       "      <td>Fila de execução</td>\n",
       "    </tr>\n",
       "    <tr>\n",
       "      <th>2</th>\n",
       "      <td>limpeza de sensor de nivel</td>\n",
       "      <td>10023570</td>\n",
       "      <td>Concluída</td>\n",
       "    </tr>\n",
       "    <tr>\n",
       "      <th>3</th>\n",
       "      <td>Segurança sempre!</td>\n",
       "      <td>10023570</td>\n",
       "      <td>Fila de execução</td>\n",
       "    </tr>\n",
       "    <tr>\n",
       "      <th>4</th>\n",
       "      <td>Em busca da economia do BPF!</td>\n",
       "      <td>10023570</td>\n",
       "      <td>Fila de execução</td>\n",
       "    </tr>\n",
       "    <tr>\n",
       "      <th>...</th>\n",
       "      <td>...</td>\n",
       "      <td>...</td>\n",
       "      <td>...</td>\n",
       "    </tr>\n",
       "    <tr>\n",
       "      <th>58725</th>\n",
       "      <td>PONTO DE COLETA SELETIVA!</td>\n",
       "      <td>10001462</td>\n",
       "      <td>Não qualificada</td>\n",
       "    </tr>\n",
       "    <tr>\n",
       "      <th>58726</th>\n",
       "      <td>limpou a agua</td>\n",
       "      <td>10001131</td>\n",
       "      <td>Não qualificada</td>\n",
       "    </tr>\n",
       "    <tr>\n",
       "      <th>58727</th>\n",
       "      <td>Nacionalização de segmento do desfibrador</td>\n",
       "      <td>10001131</td>\n",
       "      <td>Fila de execução</td>\n",
       "    </tr>\n",
       "    <tr>\n",
       "      <th>58728</th>\n",
       "      <td>Redução Mão de Obra Terceirizada na Colômbia</td>\n",
       "      <td>27534</td>\n",
       "      <td>Fila de execução</td>\n",
       "    </tr>\n",
       "    <tr>\n",
       "      <th>58729</th>\n",
       "      <td>Criar Planejamento Longo Prazo Operações Colômbia</td>\n",
       "      <td>27534</td>\n",
       "      <td>Stand By</td>\n",
       "    </tr>\n",
       "  </tbody>\n",
       "</table>\n",
       "<p>58716 rows × 3 columns</p>\n",
       "</div>"
      ],
      "text/plain": [
       "                                                    name  Matricula  \\\n",
       "0                                             Custometro   10077261   \n",
       "1      otmizar a temperatura do oléo térmico no desca...   10023570   \n",
       "2                             limpeza de sensor de nivel   10023570   \n",
       "3                                      Segurança sempre!   10023570   \n",
       "4                           Em busca da economia do BPF!   10023570   \n",
       "...                                                  ...        ...   \n",
       "58725                          PONTO DE COLETA SELETIVA!   10001462   \n",
       "58726                                      limpou a agua   10001131   \n",
       "58727          Nacionalização de segmento do desfibrador   10001131   \n",
       "58728       Redução Mão de Obra Terceirizada na Colômbia      27534   \n",
       "58729  Criar Planejamento Longo Prazo Operações Colômbia      27534   \n",
       "\n",
       "                 status  \n",
       "0      Fila de execução  \n",
       "1      Fila de execução  \n",
       "2             Concluída  \n",
       "3      Fila de execução  \n",
       "4      Fila de execução  \n",
       "...                 ...  \n",
       "58725   Não qualificada  \n",
       "58726   Não qualificada  \n",
       "58727  Fila de execução  \n",
       "58728  Fila de execução  \n",
       "58729          Stand By  \n",
       "\n",
       "[58716 rows x 3 columns]"
      ]
     },
     "execution_count": 3,
     "metadata": {},
     "output_type": "execute_result"
    }
   ],
   "source": [
    "projetos = projetos_df[['name', 'Matricula', 'status']]\n",
    "# Remove null names since it's impossible to group the data\n",
    "projetos = projetos.dropna(subset=['name'])\n",
    "projetos"
   ]
  },
  {
   "attachments": {},
   "cell_type": "markdown",
   "metadata": {},
   "source": [
    "Vamos codificar o `status` em números para que possamos processar os dados posteriormente de maneira mais rápida. O mapeamento será o seguinte:\n",
    "- 'Cancelada': 0\n",
    "- 'Concluída': 1\n",
    "- 'Não qualificada': 2\n",
    "- 'Em execução': 3\n",
    "- 'Fila de execução': 4\n",
    "- 'Stand By': 5\n",
    "- 'Pendente de patente': 6\n",
    "- 'Aguardando qualificação' = 'Esperando Calificación': 7"
   ]
  },
  {
   "cell_type": "code",
   "execution_count": 4,
   "metadata": {},
   "outputs": [
    {
     "name": "stdout",
     "output_type": "stream",
     "text": [
      "['Fila de execução' 'Concluída' 'Aguardando qualificação' 'Em execução'\n",
      " 'Stand By' 'Não qualificada' 'Cancelada' 'Pendente de patente'\n",
      " 'Esperando Calificación']\n"
     ]
    },
    {
     "data": {
      "text/html": [
       "<div>\n",
       "<style scoped>\n",
       "    .dataframe tbody tr th:only-of-type {\n",
       "        vertical-align: middle;\n",
       "    }\n",
       "\n",
       "    .dataframe tbody tr th {\n",
       "        vertical-align: top;\n",
       "    }\n",
       "\n",
       "    .dataframe thead th {\n",
       "        text-align: right;\n",
       "    }\n",
       "</style>\n",
       "<table border=\"1\" class=\"dataframe\">\n",
       "  <thead>\n",
       "    <tr style=\"text-align: right;\">\n",
       "      <th></th>\n",
       "      <th>name</th>\n",
       "      <th>Matricula</th>\n",
       "      <th>status</th>\n",
       "    </tr>\n",
       "  </thead>\n",
       "  <tbody>\n",
       "    <tr>\n",
       "      <th>0</th>\n",
       "      <td>Custometro</td>\n",
       "      <td>10077261</td>\n",
       "      <td>4</td>\n",
       "    </tr>\n",
       "    <tr>\n",
       "      <th>1</th>\n",
       "      <td>otmizar a temperatura do oléo térmico no desca...</td>\n",
       "      <td>10023570</td>\n",
       "      <td>4</td>\n",
       "    </tr>\n",
       "    <tr>\n",
       "      <th>2</th>\n",
       "      <td>limpeza de sensor de nivel</td>\n",
       "      <td>10023570</td>\n",
       "      <td>1</td>\n",
       "    </tr>\n",
       "    <tr>\n",
       "      <th>3</th>\n",
       "      <td>Segurança sempre!</td>\n",
       "      <td>10023570</td>\n",
       "      <td>4</td>\n",
       "    </tr>\n",
       "    <tr>\n",
       "      <th>4</th>\n",
       "      <td>Em busca da economia do BPF!</td>\n",
       "      <td>10023570</td>\n",
       "      <td>4</td>\n",
       "    </tr>\n",
       "    <tr>\n",
       "      <th>...</th>\n",
       "      <td>...</td>\n",
       "      <td>...</td>\n",
       "      <td>...</td>\n",
       "    </tr>\n",
       "    <tr>\n",
       "      <th>58725</th>\n",
       "      <td>PONTO DE COLETA SELETIVA!</td>\n",
       "      <td>10001462</td>\n",
       "      <td>2</td>\n",
       "    </tr>\n",
       "    <tr>\n",
       "      <th>58726</th>\n",
       "      <td>limpou a agua</td>\n",
       "      <td>10001131</td>\n",
       "      <td>2</td>\n",
       "    </tr>\n",
       "    <tr>\n",
       "      <th>58727</th>\n",
       "      <td>Nacionalização de segmento do desfibrador</td>\n",
       "      <td>10001131</td>\n",
       "      <td>4</td>\n",
       "    </tr>\n",
       "    <tr>\n",
       "      <th>58728</th>\n",
       "      <td>Redução Mão de Obra Terceirizada na Colômbia</td>\n",
       "      <td>27534</td>\n",
       "      <td>4</td>\n",
       "    </tr>\n",
       "    <tr>\n",
       "      <th>58729</th>\n",
       "      <td>Criar Planejamento Longo Prazo Operações Colômbia</td>\n",
       "      <td>27534</td>\n",
       "      <td>5</td>\n",
       "    </tr>\n",
       "  </tbody>\n",
       "</table>\n",
       "<p>58716 rows × 3 columns</p>\n",
       "</div>"
      ],
      "text/plain": [
       "                                                    name  Matricula  status\n",
       "0                                             Custometro   10077261       4\n",
       "1      otmizar a temperatura do oléo térmico no desca...   10023570       4\n",
       "2                             limpeza de sensor de nivel   10023570       1\n",
       "3                                      Segurança sempre!   10023570       4\n",
       "4                           Em busca da economia do BPF!   10023570       4\n",
       "...                                                  ...        ...     ...\n",
       "58725                          PONTO DE COLETA SELETIVA!   10001462       2\n",
       "58726                                      limpou a agua   10001131       2\n",
       "58727          Nacionalização de segmento do desfibrador   10001131       4\n",
       "58728       Redução Mão de Obra Terceirizada na Colômbia      27534       4\n",
       "58729  Criar Planejamento Longo Prazo Operações Colômbia      27534       5\n",
       "\n",
       "[58716 rows x 3 columns]"
      ]
     },
     "execution_count": 4,
     "metadata": {},
     "output_type": "execute_result"
    }
   ],
   "source": [
    "NUM_TO_STATS = ['Cancelada',\n",
    "                'Concluída',\n",
    "                'Não qualificada',\n",
    "                'Em execução',\n",
    "                'Fila de execução', \n",
    "                'Stand By',\n",
    "                'Pendente de patente',\n",
    "                'Aguardando qualificação']\n",
    "STATS_TO_NUM = {'Cancelada': 0,\n",
    "                'Concluída': 1,\n",
    "                'Não qualificada': 2,   # Decided to put non qualified after concluded and not after\n",
    "                'Em execução': 3,       # canceled considering that non qualified means that the work\n",
    "                'Fila de execução': 4,  # was not bad, but with any invalid requirement\n",
    "                'Stand By': 5, \n",
    "                'Pendente de patente': 6,\n",
    "                'Aguardando qualificação': 7,\n",
    "                'Esperando Calificación': 7,}\n",
    "\n",
    "print(projetos['status'].unique())\n",
    "# Transform the data\n",
    "projetos['status'] =  projetos['status'].apply(lambda row: STATS_TO_NUM[row]).values\n",
    "projetos"
   ]
  },
  {
   "attachments": {},
   "cell_type": "markdown",
   "metadata": {},
   "source": [
    "Agora vamos agrupar as pessoas que trabalharam no mesmo projeto, filtrando assim projetos que só tiveram 1 pessoa."
   ]
  },
  {
   "cell_type": "code",
   "execution_count": 5,
   "metadata": {},
   "outputs": [
    {
     "data": {
      "text/html": [
       "<div>\n",
       "<style scoped>\n",
       "    .dataframe tbody tr th:only-of-type {\n",
       "        vertical-align: middle;\n",
       "    }\n",
       "\n",
       "    .dataframe tbody tr th {\n",
       "        vertical-align: top;\n",
       "    }\n",
       "\n",
       "    .dataframe thead th {\n",
       "        text-align: right;\n",
       "    }\n",
       "</style>\n",
       "<table border=\"1\" class=\"dataframe\">\n",
       "  <thead>\n",
       "    <tr style=\"text-align: right;\">\n",
       "      <th></th>\n",
       "      <th>name</th>\n",
       "      <th>Matricula</th>\n",
       "      <th>status</th>\n",
       "    </tr>\n",
       "  </thead>\n",
       "  <tbody>\n",
       "    <tr>\n",
       "      <th>0</th>\n",
       "      <td>Custometro</td>\n",
       "      <td>10077261</td>\n",
       "      <td>4</td>\n",
       "    </tr>\n",
       "    <tr>\n",
       "      <th>1</th>\n",
       "      <td>otmizar a temperatura do oléo térmico no desca...</td>\n",
       "      <td>10023570</td>\n",
       "      <td>4</td>\n",
       "    </tr>\n",
       "    <tr>\n",
       "      <th>9</th>\n",
       "      <td>Marcação de peças</td>\n",
       "      <td>10077515</td>\n",
       "      <td>7</td>\n",
       "    </tr>\n",
       "    <tr>\n",
       "      <th>10</th>\n",
       "      <td>GABARITOS PARA TODAS AS BANCAS</td>\n",
       "      <td>10079166</td>\n",
       "      <td>4</td>\n",
       "    </tr>\n",
       "    <tr>\n",
       "      <th>11</th>\n",
       "      <td>reaproveitamento térmico para climatização amb...</td>\n",
       "      <td>10073270</td>\n",
       "      <td>7</td>\n",
       "    </tr>\n",
       "    <tr>\n",
       "      <th>...</th>\n",
       "      <td>...</td>\n",
       "      <td>...</td>\n",
       "      <td>...</td>\n",
       "    </tr>\n",
       "    <tr>\n",
       "      <th>58725</th>\n",
       "      <td>PONTO DE COLETA SELETIVA!</td>\n",
       "      <td>10001462</td>\n",
       "      <td>2</td>\n",
       "    </tr>\n",
       "    <tr>\n",
       "      <th>58726</th>\n",
       "      <td>limpou a agua</td>\n",
       "      <td>10001131</td>\n",
       "      <td>2</td>\n",
       "    </tr>\n",
       "    <tr>\n",
       "      <th>58727</th>\n",
       "      <td>Nacionalização de segmento do desfibrador</td>\n",
       "      <td>10001131</td>\n",
       "      <td>4</td>\n",
       "    </tr>\n",
       "    <tr>\n",
       "      <th>58728</th>\n",
       "      <td>Redução Mão de Obra Terceirizada na Colômbia</td>\n",
       "      <td>27534</td>\n",
       "      <td>4</td>\n",
       "    </tr>\n",
       "    <tr>\n",
       "      <th>58729</th>\n",
       "      <td>Criar Planejamento Longo Prazo Operações Colômbia</td>\n",
       "      <td>27534</td>\n",
       "      <td>5</td>\n",
       "    </tr>\n",
       "  </tbody>\n",
       "</table>\n",
       "<p>27040 rows × 3 columns</p>\n",
       "</div>"
      ],
      "text/plain": [
       "                                                    name  Matricula  status\n",
       "0                                             Custometro   10077261       4\n",
       "1      otmizar a temperatura do oléo térmico no desca...   10023570       4\n",
       "9                                      Marcação de peças   10077515       7\n",
       "10                        GABARITOS PARA TODAS AS BANCAS   10079166       4\n",
       "11     reaproveitamento térmico para climatização amb...   10073270       7\n",
       "...                                                  ...        ...     ...\n",
       "58725                          PONTO DE COLETA SELETIVA!   10001462       2\n",
       "58726                                      limpou a agua   10001131       2\n",
       "58727          Nacionalização de segmento do desfibrador   10001131       4\n",
       "58728       Redução Mão de Obra Terceirizada na Colômbia      27534       4\n",
       "58729  Criar Planejamento Longo Prazo Operações Colômbia      27534       5\n",
       "\n",
       "[27040 rows x 3 columns]"
      ]
     },
     "execution_count": 5,
     "metadata": {},
     "output_type": "execute_result"
    }
   ],
   "source": [
    "# Group people that worked in the same project (and in projects with more than 1 person)\n",
    "mask = projetos.groupby('name').count()['Matricula'] > 1\n",
    "# Removes projects that only one person work on\n",
    "map = {}\n",
    "for name, valid in mask.items(): map[name] = valid\n",
    "full_mask = projetos['name'].apply(lambda x: map[x] if x in map else print('ERROR AT' + x))\n",
    "proj_gt_1 = projetos[full_mask]\n",
    "\n",
    "# Avoids repeated person in same project\n",
    "proj_gt_1 = proj_gt_1.drop_duplicates()\n",
    "proj_gt_1"
   ]
  },
  {
   "attachments": {},
   "cell_type": "markdown",
   "metadata": {},
   "source": [
    "Agora iremos garatir que uma pessoa só apareça uma vez por projeto afim de remover redundâncias. Além disso, iremos tratar os casos onde um mesmo projeto está atribuido à diferentes status.\n",
    "\n",
    "Neste ultimo caso iremos operar da seguinte maneira: para remover a duplicidade de dados iremos estabelecer uma ordem de prioridade dos status. Os status de numero menor (estabelecidos há 2 celulas acima) terão prioridade sobre os de maior número. Assim, o status de um grupo será igual ao menor número de status encontrado no mesmo. Isto é importante, pois caso um mesmo grupo tenha os estados `Cancelada` e `Concluída`, queremos que o projeto seja considerado como cancelado."
   ]
  },
  {
   "cell_type": "code",
   "execution_count": 6,
   "metadata": {},
   "outputs": [
    {
     "data": {
      "text/html": [
       "<div>\n",
       "<style scoped>\n",
       "    .dataframe tbody tr th:only-of-type {\n",
       "        vertical-align: middle;\n",
       "    }\n",
       "\n",
       "    .dataframe tbody tr th {\n",
       "        vertical-align: top;\n",
       "    }\n",
       "\n",
       "    .dataframe thead th {\n",
       "        text-align: right;\n",
       "    }\n",
       "</style>\n",
       "<table border=\"1\" class=\"dataframe\">\n",
       "  <thead>\n",
       "    <tr style=\"text-align: right;\">\n",
       "      <th></th>\n",
       "      <th>name</th>\n",
       "      <th>Matricula</th>\n",
       "      <th>status</th>\n",
       "    </tr>\n",
       "  </thead>\n",
       "  <tbody>\n",
       "    <tr>\n",
       "      <th>0</th>\n",
       "      <td>ALINHAR AS ESTEIRAS TRANSPORTADORAS COM A NR1...</td>\n",
       "      <td>10089243</td>\n",
       "      <td>7</td>\n",
       "    </tr>\n",
       "    <tr>\n",
       "      <th>1</th>\n",
       "      <td>ALINHAR AS ESTEIRAS TRANSPORTADORAS COM A NR1...</td>\n",
       "      <td>10081841</td>\n",
       "      <td>7</td>\n",
       "    </tr>\n",
       "    <tr>\n",
       "      <th>2</th>\n",
       "      <td>Alteração layout Linear máquina 67 e 69</td>\n",
       "      <td>10092156</td>\n",
       "      <td>1</td>\n",
       "    </tr>\n",
       "    <tr>\n",
       "      <th>3</th>\n",
       "      <td>Alteração layout Linear máquina 67 e 69</td>\n",
       "      <td>10092076</td>\n",
       "      <td>1</td>\n",
       "    </tr>\n",
       "    <tr>\n",
       "      <th>4</th>\n",
       "      <td>Alteração layout Linear máquina 67 e 69</td>\n",
       "      <td>10091449</td>\n",
       "      <td>1</td>\n",
       "    </tr>\n",
       "    <tr>\n",
       "      <th>...</th>\n",
       "      <td>...</td>\n",
       "      <td>...</td>\n",
       "      <td>...</td>\n",
       "    </tr>\n",
       "    <tr>\n",
       "      <th>24193</th>\n",
       "      <td>Ônibus Escola -  Viação Caierias</td>\n",
       "      <td>10075320</td>\n",
       "      <td>4</td>\n",
       "    </tr>\n",
       "    <tr>\n",
       "      <th>24194</th>\n",
       "      <td>Ônibus Escola -  Viação Caierias</td>\n",
       "      <td>10072520</td>\n",
       "      <td>4</td>\n",
       "    </tr>\n",
       "    <tr>\n",
       "      <th>24195</th>\n",
       "      <td>Ônibus Escola -  Viação Caierias</td>\n",
       "      <td>10061987</td>\n",
       "      <td>4</td>\n",
       "    </tr>\n",
       "    <tr>\n",
       "      <th>24196</th>\n",
       "      <td>índice para resina</td>\n",
       "      <td>10088493</td>\n",
       "      <td>1</td>\n",
       "    </tr>\n",
       "    <tr>\n",
       "      <th>24197</th>\n",
       "      <td>índice para resina</td>\n",
       "      <td>10060092</td>\n",
       "      <td>1</td>\n",
       "    </tr>\n",
       "  </tbody>\n",
       "</table>\n",
       "<p>24198 rows × 3 columns</p>\n",
       "</div>"
      ],
      "text/plain": [
       "                                                    name Matricula status\n",
       "0       ALINHAR AS ESTEIRAS TRANSPORTADORAS COM A NR1...  10089243      7\n",
       "1       ALINHAR AS ESTEIRAS TRANSPORTADORAS COM A NR1...  10081841      7\n",
       "2                Alteração layout Linear máquina 67 e 69  10092156      1\n",
       "3                Alteração layout Linear máquina 67 e 69  10092076      1\n",
       "4                Alteração layout Linear máquina 67 e 69  10091449      1\n",
       "...                                                  ...       ...    ...\n",
       "24193                   Ônibus Escola -  Viação Caierias  10075320      4\n",
       "24194                   Ônibus Escola -  Viação Caierias  10072520      4\n",
       "24195                   Ônibus Escola -  Viação Caierias  10061987      4\n",
       "24196                                índice para resina   10088493      1\n",
       "24197                                índice para resina   10060092      1\n",
       "\n",
       "[24198 rows x 3 columns]"
      ]
     },
     "execution_count": 6,
     "metadata": {},
     "output_type": "execute_result"
    }
   ],
   "source": [
    "# Group the projects by name, gattering the teams\n",
    "gp = proj_gt_1.groupby('name')\n",
    "df = pd.DataFrame(columns=['name', 'Matricula', 'status'])\n",
    "\n",
    "# For each project, removes internal redundancy and put it in a final data frame\n",
    "for name, workers in gp:\n",
    "    # Tries to find the lines which there are people with more than 1 status (diverging info)\n",
    "    stats_unique = workers['status'].unique()\n",
    "    if len(stats_unique) != 1:\n",
    "        # Gets the new status\n",
    "        min_stat = min(stats_unique)\n",
    "        workers['status'] = min_stat\n",
    "\n",
    "    # Tries to find the lines which a same person appears more than 1 time\n",
    "    n_unique = len(workers['Matricula'].unique())\n",
    "    if n_unique != workers.shape[0]:\n",
    "        workers = workers.drop_duplicates()\n",
    "\n",
    "    # Make sure projects that, after drop of duplicates, has more than 1 person working\n",
    "    if workers.shape[0] != 1:\n",
    "        df=pd.concat([df, workers], ignore_index=True)\n",
    "\n",
    "# Final data frame\n",
    "df"
   ]
  },
  {
   "attachments": {},
   "cell_type": "markdown",
   "metadata": {},
   "source": [
    "##### 1.2 Interações"
   ]
  },
  {
   "attachments": {},
   "cell_type": "markdown",
   "metadata": {},
   "source": [
    "Agora queremos construir uma representação das interações entre funcionários. Como o objetivo do projeto é prever se uma dada dupla deveria ou não trabalhar junta (e assim ir acoplando pessoas de forma a gerar times), devemos ter uma métrica para utilizarmos como label e que nos indicará se duas pessoas devem ou não trabalhar juntas. \n",
    "\n",
    "Assim, usaremos o status do projeto para se gerar estas labels. Pessoas que pertencem à projetos com label 1 (concluída) `DEVEM` trabalhar juntas, enquanto pessoas com label 0 (cancelada) `NÃO DEVEM` trabalhar. \n",
    "\n",
    "Dessas relações obteremos um grafo. Para isso, faremos:"
   ]
  },
  {
   "cell_type": "code",
   "execution_count": 7,
   "metadata": {},
   "outputs": [],
   "source": [
    "import networkx as nx\n",
    "\n",
    "projects = df[df['status'] <= 1].groupby('name')\n",
    "G = nx.Graph()\n",
    "\n",
    "for name, workers in projects:\n",
    "    n_workers = workers.shape[0]\n",
    "    status = 1 if workers.iloc[0]['status'] == 1 else -1\n",
    "    \n",
    "    # Cria uma aresta (ou aumenta o peso de aresta existente) entre cada uma das pessoas que participaram dessa reunião\n",
    "    for i in range(n_workers):\n",
    "        _from = int(workers.iloc[i]['Matricula'])\n",
    "        for j in range(i + 1, n_workers):\n",
    "            to = int(workers.iloc[j]['Matricula'])\n",
    "            \n",
    "            # If the edge has already been created\n",
    "            if G.has_edge(_from, to):\n",
    "                G[_from][to]['weight'] += status\n",
    "                G[_from][to]['n_projs'] += 1\n",
    "            # Initialize an edge\n",
    "            else:\n",
    "                G.add_edge(_from, to, weight=status, n_projs=1)\n",
    "                \n",
    "# Normalize the edges values\n",
    "for edge in G.edges():\n",
    "    G[edge[0]][edge[1]][\"weight\"] /= G[edge[0]][edge[1]]['n_projs']"
   ]
  },
  {
   "attachments": {},
   "cell_type": "markdown",
   "metadata": {},
   "source": [
    "Note que acima nos normalizamos os dados. Isto foi necessário, pois ao se explorar os dados foi notado que muitas duplas de funcionários possuiam um alto valor atribuído à eficiência da dupla. A array a seguir é um exemplo de valores únicos encontrados em todo o grafo.\n",
    "\n",
    "```python\n",
    "array([  3,   1,   2,   9,   4,   0,  -1,  -3,  -2,   5,   8,   7,  -4,\n",
    "        10,   6,  16,  18,  14,  15,  11,  72,  57,  -7,  12,  13,  -8,\n",
    "        -6,  -9, -10,  22,  17,  49,  47,  19])\n",
    "```"
   ]
  },
  {
   "attachments": {},
   "cell_type": "markdown",
   "metadata": {},
   "source": [
    "Acima notamos que tem alguns valores bastante altos, ou seja, tiveram duplas que teoricamente funcionaram muito bem. Vamos observar o porque desses valores que, de primeira vez, parecem anômalos."
   ]
  },
  {
   "attachments": {},
   "cell_type": "markdown",
   "metadata": {},
   "source": [
    "Por exemplo, a dupla `(10046705, 10077310)` obteve um score total de 72, ou seja, eles funcionam muito bem juntos. Se observarmos abaixo, veremos que eles participaram de um total de 199 projetos e isto que justifica este valor tão alto."
   ]
  },
  {
   "cell_type": "code",
   "execution_count": 8,
   "metadata": {},
   "outputs": [
    {
     "name": "stdout",
     "output_type": "stream",
     "text": [
      "Esta dupla participou de 199 projetos em conjunto.\n"
     ]
    }
   ],
   "source": [
    "print(f\"Esta dupla participou de {df[df['Matricula'] == 10046705]['name'].unique().shape[0]} projetos em conjunto.\")"
   ]
  },
  {
   "attachments": {},
   "cell_type": "markdown",
   "metadata": {},
   "source": [
    "Portanto, normalizamos este dado ao fazer $ 72 / 199 $, afinal pessoas que trabalham 199 vezes e tiveram maus resultados algumas vezes não tem mais sincronia do que uma dupla que trabalhou 3 vezes e as 3 vezes deram certo."
   ]
  },
  {
   "attachments": {},
   "cell_type": "markdown",
   "metadata": {},
   "source": [
    "#### 2. Treinamento de modelo"
   ]
  },
  {
   "attachments": {},
   "cell_type": "markdown",
   "metadata": {},
   "source": [
    "##### 2.1. NBNE"
   ]
  },
  {
   "attachments": {},
   "cell_type": "markdown",
   "metadata": {},
   "source": [
    "Agora vamos trabalhar no treinamento dos modelos. Primeiro iremos aproveitar que conseguimos processar e transformar as interações entre funcionários em um grafo no passo anterior e utilizaremos dessa estrutura como uma nova forma de representação.\n",
    "\n",
    "Assim, iremos utilizar do algoritmo NBNE (Neighbor Based Node Embeddings), um algoritmo não supervisionado que é capaz de aprender a codificar nós de um grafo em um vetor. Assim, o que este algoritmo faz é aprender a codificar um nó em um embedding. Cada embedding possui um certo número de dimensões que representam abstratamente características do nó, ou seja, são diretamente afetados por como é a vizinhança do mesmo e que tipo de relação ele possuia com seus vizinhos (as aresta entre eles tinham um valor positivo - pessoas que deveriam trabalhar junto - ou negativo - pessoas que não deveriam trabalhar junto)."
   ]
  },
  {
   "attachments": {},
   "cell_type": "markdown",
   "metadata": {},
   "source": [
    "Assim, agora iremos obter a representação dos nossos nós, ou seja, de cada funcionário. Inicialmente vamos fazer cada embedding ter 128 dimensões."
   ]
  },
  {
   "cell_type": "code",
   "execution_count": 9,
   "metadata": {},
   "outputs": [],
   "source": [
    "from nbne import train_model\n",
    "from os.path import exists\n",
    "\n",
    "NBNE_DIM = 128\n",
    "NBNE_FILE = f\"./data/out/nbne-{NBNE_DIM}.out\"\n",
    "\n",
    "# Just verify if the file isn't already instantiated (avoid repeated work)\n",
    "if not exists(NBNE_FILE):\n",
    "    train_model(graph=G, num_permutations=5, embedding_dimension=128, output_file=NBNE_FILE)"
   ]
  },
  {
   "attachments": {},
   "cell_type": "markdown",
   "metadata": {},
   "source": [
    "Esta operação nos garantiu um arquivo que armazena os embeddings de todos os nossos funcionários. Este dado será o nosso dado de entrada para os futuros algoritmos de predição. Assim, vamos recuperar este dado e armazená-lo em um formato que nos permita acessar rapidamente cada funcionário e sua representação."
   ]
  },
  {
   "cell_type": "code",
   "execution_count": 10,
   "metadata": {},
   "outputs": [],
   "source": [
    "from typing import Dict\n",
    "\n",
    "# A hash map mapping workers registration ID to their embedding vector\n",
    "funcs : Dict[int, np.array] = {}\n",
    "\n",
    "with open(NBNE_FILE, mode=\"r\") as file:\n",
    "    lines = file.readlines()\n",
    "    \n",
    "    # For each worker\n",
    "    for line in lines[1:]:\n",
    "        data = line.split(\" \")\n",
    "        # Each worker, mapped by its ID stores its embedding\n",
    "        funcs[int(data[0])] = np.array(data[1:]).astype(np.float64)\n",
    "\n",
    "# Stores all the workers registration IDs\n",
    "funcsID = funcs.keys()"
   ]
  },
  {
   "attachments": {},
   "cell_type": "markdown",
   "metadata": {},
   "source": [
    "Agora iremos reconstruir o grafo em formato de dataframe (que será utilizado na parte de link prediction). Este dataframe terá as seguintes colunas:\n",
    "- $ 2 \\times NBNE_{DIM} $ colunas, onde $ NBNE_{DIM} $ é o número de dimensões do embedding. Essas colunas representarão a concatenação do embedding de 2 funcionários que já trabalharam juntos, ou seja, que possuem uma aresta no grafo.\n",
    "- Mais uma coluna, que será a label do nosso dado. Nesta coluna estará o valor do peso da aresta entre esses 2 nós, ou seja, o quão bom foi o desempenho entre 2 funcionários.\n",
    "\n",
    "Iremos adicionar 2 colunas extras, porém estas não serão utilizadas no treinamento, mas sim apenas para fatores de debugging. Essas duas colunas irão armazenas o identificador dos funcionários que estão sendo representados por estes embeddings."
   ]
  },
  {
   "cell_type": "code",
   "execution_count": 19,
   "metadata": {},
   "outputs": [
    {
     "data": {
      "text/html": [
       "<div>\n",
       "<style scoped>\n",
       "    .dataframe tbody tr th:only-of-type {\n",
       "        vertical-align: middle;\n",
       "    }\n",
       "\n",
       "    .dataframe tbody tr th {\n",
       "        vertical-align: top;\n",
       "    }\n",
       "\n",
       "    .dataframe thead th {\n",
       "        text-align: right;\n",
       "    }\n",
       "</style>\n",
       "<table border=\"1\" class=\"dataframe\">\n",
       "  <thead>\n",
       "    <tr style=\"text-align: right;\">\n",
       "      <th></th>\n",
       "      <th>id1</th>\n",
       "      <th>id2</th>\n",
       "      <th>a0</th>\n",
       "      <th>a1</th>\n",
       "      <th>a2</th>\n",
       "      <th>a3</th>\n",
       "      <th>a4</th>\n",
       "      <th>a5</th>\n",
       "      <th>a6</th>\n",
       "      <th>a7</th>\n",
       "      <th>...</th>\n",
       "      <th>b119</th>\n",
       "      <th>b120</th>\n",
       "      <th>b121</th>\n",
       "      <th>b122</th>\n",
       "      <th>b123</th>\n",
       "      <th>b124</th>\n",
       "      <th>b125</th>\n",
       "      <th>b126</th>\n",
       "      <th>b127</th>\n",
       "      <th>quality</th>\n",
       "    </tr>\n",
       "  </thead>\n",
       "  <tbody>\n",
       "    <tr>\n",
       "      <th>0</th>\n",
       "      <td>10092156</td>\n",
       "      <td>10092076</td>\n",
       "      <td>-0.059191</td>\n",
       "      <td>-0.050889</td>\n",
       "      <td>-0.222815</td>\n",
       "      <td>-0.030142</td>\n",
       "      <td>0.363358</td>\n",
       "      <td>0.070741</td>\n",
       "      <td>0.101035</td>\n",
       "      <td>0.126196</td>\n",
       "      <td>...</td>\n",
       "      <td>0.342778</td>\n",
       "      <td>-0.048073</td>\n",
       "      <td>-0.541260</td>\n",
       "      <td>-0.365752</td>\n",
       "      <td>0.275575</td>\n",
       "      <td>0.087210</td>\n",
       "      <td>-0.258118</td>\n",
       "      <td>0.004593</td>\n",
       "      <td>-0.010365</td>\n",
       "      <td>1.0</td>\n",
       "    </tr>\n",
       "    <tr>\n",
       "      <th>1</th>\n",
       "      <td>10092156</td>\n",
       "      <td>10091449</td>\n",
       "      <td>-0.059191</td>\n",
       "      <td>-0.050889</td>\n",
       "      <td>-0.222815</td>\n",
       "      <td>-0.030142</td>\n",
       "      <td>0.363358</td>\n",
       "      <td>0.070741</td>\n",
       "      <td>0.101035</td>\n",
       "      <td>0.126196</td>\n",
       "      <td>...</td>\n",
       "      <td>0.439382</td>\n",
       "      <td>-0.062711</td>\n",
       "      <td>-0.698245</td>\n",
       "      <td>-0.486721</td>\n",
       "      <td>0.337008</td>\n",
       "      <td>0.120705</td>\n",
       "      <td>-0.317609</td>\n",
       "      <td>0.013949</td>\n",
       "      <td>0.001175</td>\n",
       "      <td>1.0</td>\n",
       "    </tr>\n",
       "  </tbody>\n",
       "</table>\n",
       "<p>2 rows × 259 columns</p>\n",
       "</div>"
      ],
      "text/plain": [
       "        id1       id2        a0        a1        a2        a3        a4  \\\n",
       "0  10092156  10092076 -0.059191 -0.050889 -0.222815 -0.030142  0.363358   \n",
       "1  10092156  10091449 -0.059191 -0.050889 -0.222815 -0.030142  0.363358   \n",
       "\n",
       "         a5        a6        a7  ...      b119      b120      b121      b122  \\\n",
       "0  0.070741  0.101035  0.126196  ...  0.342778 -0.048073 -0.541260 -0.365752   \n",
       "1  0.070741  0.101035  0.126196  ...  0.439382 -0.062711 -0.698245 -0.486721   \n",
       "\n",
       "       b123      b124      b125      b126      b127  quality  \n",
       "0  0.275575  0.087210 -0.258118  0.004593 -0.010365      1.0  \n",
       "1  0.337008  0.120705 -0.317609  0.013949  0.001175      1.0  \n",
       "\n",
       "[2 rows x 259 columns]"
      ]
     },
     "execution_count": 19,
     "metadata": {},
     "output_type": "execute_result"
    }
   ],
   "source": [
    "RELATIONS_FILE = f\"./data/out/relations-{NBNE_DIM}.csv\"\n",
    "\n",
    "def writeArrInCsv(arr: np.array, file, sep: str):\n",
    "    for el in arr:\n",
    "        file.write(f\"{el}{sep}\")\n",
    "\n",
    "# If the file doesn't exists, creates it\n",
    "if not exists(RELATIONS_FILE):\n",
    "    with open(RELATIONS_FILE, \"w+\") as file:\n",
    "        # Writes the column names of the data\n",
    "        file.write(\"id1,id2,\")\n",
    "        for i in range(NBNE_DIM): file.write(f\"a{i},\")\n",
    "        for i in range(NBNE_DIM): file.write(f\"b{i},\")\n",
    "        file.write(\"quality\\n\")\n",
    "\n",
    "        # For each worker interaction in the graph\n",
    "        for edge in G.edges():\n",
    "            file.write(f\"{edge[0]},{edge[1]},\")\n",
    "            writeArrInCsv(funcs[edge[0]], file, sep=\",\")\n",
    "            writeArrInCsv(funcs[edge[1]], file, sep=\",\")\n",
    "            file.write(f\"{G[edge[0]][edge[1]]['weight']}\\n\")\n",
    "\n",
    "# \n",
    "relations = pd.read_csv(RELATIONS_FILE, sep=\",\")\n",
    "relations.head(2)"
   ]
  },
  {
   "attachments": {},
   "cell_type": "markdown",
   "metadata": {},
   "source": [
    "Vamos observar então os dados que foram gerados. Vamos ver os dados de qualidade das duplas de funcionários. \n",
    "\n",
    "Após a normalização vemos que agora os dados estão mais consistentes e em um range reduzido, o que facilitará a vida do algorítmo. Note que 1 é o valor máximo para o quanto dois funcionários deveriam trabalhar e -1 para o quanto eles não deveriam trabalhar juntos. Note então que valores mais próximos de 0 indicam um alto grau de incerteza, ou seja, a predição é tão boa quanto jogar uma moeda ao ar para decidir se uma dupla deveria ou não trabalhar. "
   ]
  },
  {
   "cell_type": "code",
   "execution_count": 15,
   "metadata": {},
   "outputs": [
    {
     "data": {
      "text/plain": [
       "array([ 1.        ,  0.33333333,  0.        ,  0.2       ,  0.5       ,\n",
       "        0.66666667, -1.        , -0.33333333,  0.6       ,  0.8       ,\n",
       "        0.63636364,  0.81818182, -0.42857143,  0.88888889, -0.6       ,\n",
       "       -0.5       ,  0.97297297, -0.77777778,  0.55555556, -0.83333333,\n",
       "        0.42857143])"
      ]
     },
     "execution_count": 15,
     "metadata": {},
     "output_type": "execute_result"
    }
   ],
   "source": [
    "relations[['id1', 'id2', 'quality']]['quality'].unique()"
   ]
  },
  {
   "attachments": {},
   "cell_type": "markdown",
   "metadata": {},
   "source": [
    "##### 2.2. Visualização de dados"
   ]
  },
  {
   "attachments": {},
   "cell_type": "markdown",
   "metadata": {},
   "source": [
    "Apenas uma pequena seção com funções que irão nos auxiliar a visualizar os dados e os treinos."
   ]
  },
  {
   "cell_type": "code",
   "execution_count": 161,
   "metadata": {},
   "outputs": [],
   "source": [
    "import matplotlib.pyplot as plt\n",
    "\n",
    "def plotTrainVal(evals, subplot, metric):\n",
    "    subplot.set_title(f\"Train with {metric} metric\")\n",
    "    subplot.set_xlabel(\"Number of iterations\")\n",
    "    subplot.set_ylabel(\"Error\")\n",
    "    subplot.yaxis.grid(color='#777', alpha=0.45,linestyle='dashed')\n",
    "    subplot.xaxis.grid(color='#777', alpha=0.45,linestyle='dashed')\n",
    "    \n",
    "    for key in evals:\n",
    "        hist = evals[key][metric]\n",
    "        subplot.plot(range(len(hist)), hist, label=f\"{'train' if key == 'training' else 'test'}\")\n",
    "    subplot.legend()\n",
    "\n",
    "def plotTrain(evals, title: str, evalMetrics: list[str]):\n",
    "    outer = plt.figure(figsize=(9, 8))\n",
    "    outer.suptitle(f\"{title}\", fontsize=16)\n",
    "    subplots = outer.subplots(2, 1)\n",
    "    # outer.tight_layout()\n",
    "    plt.subplots_adjust(hspace=0.3)\n",
    "        \n",
    "    i = 0\n",
    "    for metric in evalMetrics:\n",
    "        # Plots each validation\n",
    "        plotTrainVal(evals, subplots[i], metric)\n",
    "        i += 1\n",
    "        \n",
    "    plt.plot()"
   ]
  },
  {
   "attachments": {},
   "cell_type": "markdown",
   "metadata": {},
   "source": [
    "##### 2.3. Link prediction"
   ]
  },
  {
   "attachments": {},
   "cell_type": "markdown",
   "metadata": {},
   "source": [
    "Com todos esses dados em mãos, podemos finalmente começarmos a treinar modelos que fazem predições a respeito de algo em função de nossos funcionários. Primeiramente iremos treinar um modelo que aprenda a nos dizer o quão bom será o desempenho de uma dupla caso ambos trabalhem juntos.\n",
    "\n",
    "Para este caso iremos dar o nome de `Link Prediction`, pois o que este algoritmo fará é prever se, dado dois nós (dois funcionários) qual será o peso da aresta que os liga. Concretamente, o que este algoritmo está fazendo é fazendo uma previsão de como será o `link`, a aresta, entre esses nós. Já abstratamente, o que este algoritmo fará é prever o quaão bom será o desempenho de duas pessoas caso trabalhem juntas."
   ]
  },
  {
   "attachments": {},
   "cell_type": "markdown",
   "metadata": {},
   "source": [
    "Deste modo, se torna claro que precisaremos utilizar de um algoritmo de regressão para fazer tais predições."
   ]
  },
  {
   "cell_type": "code",
   "execution_count": 63,
   "metadata": {},
   "outputs": [],
   "source": [
    "import lightgbm as lgb\n",
    "from sklearn.model_selection import train_test_split\n",
    "\n",
    "# link_df = relations.drop(['id1', 'id2'], axis=1)\n",
    "\n",
    "# Function that trains an lightgbm regressor for link prediction. It takes:\n",
    "#\n",
    "def trainLinkPrediction(n_estimators: int, metrics: list[str], l_rate = 0.05):\n",
    "    # Defines the model\n",
    "    model : lgb.LGBMRegressor = lgb.LGBMRegressor(\n",
    "        learning_rate = l_rate,\n",
    "        n_estimators = n_estimators\n",
    "    )\n",
    "    # Split the data into train and test\n",
    "    x_train, x_test, y_train, y_test = train_test_split(\n",
    "        relations.drop(['id1', 'id2', 'quality'], axis=1), \n",
    "        relations['quality'], \n",
    "        test_size=0.25\n",
    "    )\n",
    "\n",
    "    evals = {}\n",
    "    # Trains the model\n",
    "    model.fit(x_train, \n",
    "              y_train,\n",
    "              eval_set = [(x_train, y_train), (x_test, y_test)],\n",
    "              eval_metric = metrics,\n",
    "              callbacks = [lgb.record_evaluation(evals), \n",
    "                           lgb.early_stopping(50)],\n",
    "              )\n",
    "    \n",
    "    return model, evals"
   ]
  },
  {
   "cell_type": "code",
   "execution_count": 64,
   "metadata": {},
   "outputs": [
    {
     "name": "stdout",
     "output_type": "stream",
     "text": [
      "Training until validation scores don't improve for 50 rounds\n",
      "Did not meet early stopping. Best iteration is:\n",
      "[256]\ttraining's l1: 0.0582067\ttraining's l2: 0.01501\tvalid_1's l1: 0.162971\tvalid_1's l2: 0.131837\n"
     ]
    }
   ],
   "source": [
    "EVAL_METRICS = ['l1', 'l2']\n",
    "model, evals = trainLinkPrediction(NBNE_DIM * 2, EVAL_METRICS)"
   ]
  },
  {
   "cell_type": "code",
   "execution_count": 162,
   "metadata": {},
   "outputs": [
    {
     "data": {
      "image/png": "[encoded data removed]",
      "text/plain": [
       "<Figure size 648x576 with 2 Axes>"
      ]
     },
     "metadata": {
      "needs_background": "light"
     },
     "output_type": "display_data"
    }
   ],
   "source": [
    "plotTrain(evals, \"Treino 128 embedding\", EVAL_METRICS)"
   ]
  },
  {
   "attachments": {},
   "cell_type": "markdown",
   "metadata": {},
   "source": [
    "#### 3. Resultado e validação de modelo"
   ]
  },
  {
   "cell_type": "code",
   "execution_count": null,
   "metadata": {},
   "outputs": [],
   "source": []
  },
  {
   "attachments": {},
   "cell_type": "markdown",
   "metadata": {},
   "source": [
    "##### 1.2. Infos Pessoais"
   ]
  }
 ],
 "metadata": {
  "kernelspec": {
   "display_name": "Python 3",
   "language": "python",
   "name": "python3"
  },
  "language_info": {
   "codemirror_mode": {
    "name": "ipython",
    "version": 3
   },
   "file_extension": ".py",
   "mimetype": "text/x-python",
   "name": "python",
   "nbconvert_exporter": "python",
   "pygments_lexer": "ipython3",
   "version": "3.10.6"
  },
  "orig_nbformat": 4
 },
 "nbformat": 4,
 "nbformat_minor": 2
}
