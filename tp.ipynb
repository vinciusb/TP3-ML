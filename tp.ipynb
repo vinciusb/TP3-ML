{
 "cells": [
  {
   "attachments": {},
   "cell_type": "markdown",
   "metadata": {},
   "source": [
    "### Trabalho Final - Aprendizado de Máquina\n",
    "- Vinícius Braga Freire - 2020054889"
   ]
  },
  {
   "attachments": {},
   "cell_type": "markdown",
   "metadata": {},
   "source": [
    "#### 1. Processamento de dados"
   ]
  },
  {
   "attachments": {},
   "cell_type": "markdown",
   "metadata": {},
   "source": [
    "##### 1.1. Interações"
   ]
  },
  {
   "attachments": {},
   "cell_type": "markdown",
   "metadata": {},
   "source": [
    "Vamos tratar os dados das interações entre indivíduos. Este dado nos dá a informação em que dia, por quanto tempo e a qual reunião um funcionário participou.\n",
    "\n",
    "Deste dado, iremos gerar um grafo (matriz de adjacência) que irá indicar quantas vezes uma certa pessoa se encontrou com outra. O valor de quantas vezes uma pessoa se encontrou com outra tem forte correlação com estas pertencerem a um mesmo grupo.\n",
    "\n",
    "Note que reuniões com mais de 1 segundo serão consideradas, além de que reuniões que tenham tido mais de 10 participantes serão descartadas (pois essas reuniões grandes tendem a ser feitas para a empresa toda/setor inteiro)."
   ]
  },
  {
   "cell_type": "code",
   "execution_count": 17,
   "metadata": {},
   "outputs": [
    {
     "name": "stdout",
     "output_type": "stream",
     "text": [
      "<class 'pandas.core.frame.DataFrame'>\n",
      "RangeIndex: 149006 entries, 0 to 149005\n",
      "Data columns (total 6 columns):\n",
      " #   Column           Non-Null Count   Dtype \n",
      "---  ------           --------------   ----- \n",
      " 0   Data             149006 non-null  object\n",
      " 1   Matricula        149006 non-null  int64 \n",
      " 2   Departamento     149006 non-null  object\n",
      " 3   Nome da Reuni╞o  149006 non-null  object\n",
      " 4   Nome da Janela   149006 non-null  object\n",
      " 5   Tempo na Janela  149006 non-null  object\n",
      "dtypes: int64(1), object(5)\n",
      "memory usage: 6.8+ MB\n",
      "None\n"
     ]
    },
    {
     "data": {
      "text/html": [
       "<div>\n",
       "<style scoped>\n",
       "    .dataframe tbody tr th:only-of-type {\n",
       "        vertical-align: middle;\n",
       "    }\n",
       "\n",
       "    .dataframe tbody tr th {\n",
       "        vertical-align: top;\n",
       "    }\n",
       "\n",
       "    .dataframe thead th {\n",
       "        text-align: right;\n",
       "    }\n",
       "</style>\n",
       "<table border=\"1\" class=\"dataframe\">\n",
       "  <thead>\n",
       "    <tr style=\"text-align: right;\">\n",
       "      <th></th>\n",
       "      <th>Data</th>\n",
       "      <th>Matricula</th>\n",
       "      <th>Departamento</th>\n",
       "      <th>Nome da Reuni╞o</th>\n",
       "      <th>Nome da Janela</th>\n",
       "      <th>Tempo na Janela</th>\n",
       "    </tr>\n",
       "  </thead>\n",
       "  <tbody>\n",
       "    <tr>\n",
       "      <th>0</th>\n",
       "      <td>31/12/2022</td>\n",
       "      <td>10085103</td>\n",
       "      <td>CTN-01</td>\n",
       "      <td>-</td>\n",
       "      <td>dtOthers</td>\n",
       "      <td>00:00:56</td>\n",
       "    </tr>\n",
       "    <tr>\n",
       "      <th>1</th>\n",
       "      <td>31/12/2022</td>\n",
       "      <td>10085103</td>\n",
       "      <td>CTN-01</td>\n",
       "      <td>Daniela Cristina Arena Vaz</td>\n",
       "      <td>Daniela Cristina Arena Vaz | Microsoft Teams</td>\n",
       "      <td>00:01:02</td>\n",
       "    </tr>\n",
       "    <tr>\n",
       "      <th>2</th>\n",
       "      <td>31/12/2022</td>\n",
       "      <td>10085103</td>\n",
       "      <td>CTN-01</td>\n",
       "      <td>[War Room] - Carga Suprimentos</td>\n",
       "      <td>[War Room] - Carga Suprimentos | Microsoft Teams</td>\n",
       "      <td>00:04:58</td>\n",
       "    </tr>\n",
       "    <tr>\n",
       "      <th>3</th>\n",
       "      <td>31/12/2022</td>\n",
       "      <td>10085103</td>\n",
       "      <td>CTN-01</td>\n",
       "      <td>Cutover/Golive Florestal</td>\n",
       "      <td>Cutover/Golive Florestal | Microsoft Teams</td>\n",
       "      <td>00:04:46</td>\n",
       "    </tr>\n",
       "    <tr>\n",
       "      <th>4</th>\n",
       "      <td>31/12/2022</td>\n",
       "      <td>10085103</td>\n",
       "      <td>CTN-01</td>\n",
       "      <td>Núcleo Duro do Go Live</td>\n",
       "      <td>Núcleo Duro do Go Live | Microsoft Teams</td>\n",
       "      <td>00:07:52</td>\n",
       "    </tr>\n",
       "  </tbody>\n",
       "</table>\n",
       "</div>"
      ],
      "text/plain": [
       "         Data  Matricula Departamento                 Nome da Reuni╞o  \\\n",
       "0  31/12/2022   10085103       CTN-01                               -   \n",
       "1  31/12/2022   10085103       CTN-01      Daniela Cristina Arena Vaz   \n",
       "2  31/12/2022   10085103       CTN-01  [War Room] - Carga Suprimentos   \n",
       "3  31/12/2022   10085103       CTN-01        Cutover/Golive Florestal   \n",
       "4  31/12/2022   10085103       CTN-01          Núcleo Duro do Go Live   \n",
       "\n",
       "                                     Nome da Janela Tempo na Janela  \n",
       "0                                          dtOthers        00:00:56  \n",
       "1      Daniela Cristina Arena Vaz | Microsoft Teams        00:01:02  \n",
       "2  [War Room] - Carga Suprimentos | Microsoft Teams        00:04:58  \n",
       "3        Cutover/Golive Florestal | Microsoft Teams        00:04:46  \n",
       "4          Núcleo Duro do Go Live | Microsoft Teams        00:07:52  "
      ]
     },
     "execution_count": 17,
     "metadata": {},
     "output_type": "execute_result"
    }
   ],
   "source": [
    "import pandas as pd\n",
    "\n",
    "interacoes_df = pd.read_csv(\"./data/in/interacoes.csv\", encoding=\"cp860\", sep=\";\")\n",
    "print(interacoes_df.info())\n",
    "interacoes_df.head()"
   ]
  },
  {
   "cell_type": "code",
   "execution_count": 24,
   "metadata": {},
   "outputs": [
    {
     "data": {
      "text/html": [
       "<div>\n",
       "<style scoped>\n",
       "    .dataframe tbody tr th:only-of-type {\n",
       "        vertical-align: middle;\n",
       "    }\n",
       "\n",
       "    .dataframe tbody tr th {\n",
       "        vertical-align: top;\n",
       "    }\n",
       "\n",
       "    .dataframe thead th {\n",
       "        text-align: right;\n",
       "    }\n",
       "</style>\n",
       "<table border=\"1\" class=\"dataframe\">\n",
       "  <thead>\n",
       "    <tr style=\"text-align: right;\">\n",
       "      <th></th>\n",
       "      <th></th>\n",
       "      <th>Matricula</th>\n",
       "    </tr>\n",
       "    <tr>\n",
       "      <th>Data</th>\n",
       "      <th>Nome da Reuni╞o</th>\n",
       "      <th></th>\n",
       "    </tr>\n",
       "  </thead>\n",
       "  <tbody>\n",
       "    <tr>\n",
       "      <th rowspan=\"4\" valign=\"top\">01/07/2022</th>\n",
       "      <th>-</th>\n",
       "      <td>2</td>\n",
       "    </tr>\n",
       "    <tr>\n",
       "      <th>Product Analytics - integraç╞o e estrutura da área</th>\n",
       "      <td>1</td>\n",
       "    </tr>\n",
       "    <tr>\n",
       "      <th>Talita Freire da Silva</th>\n",
       "      <td>1</td>\n",
       "    </tr>\n",
       "    <tr>\n",
       "      <th>Tropa de Elite</th>\n",
       "      <td>1</td>\n",
       "    </tr>\n",
       "    <tr>\n",
       "      <th>01/08/2022</th>\n",
       "      <th>-</th>\n",
       "      <td>88</td>\n",
       "    </tr>\n",
       "    <tr>\n",
       "      <th>...</th>\n",
       "      <th>...</th>\n",
       "      <td>...</td>\n",
       "    </tr>\n",
       "    <tr>\n",
       "      <th rowspan=\"5\" valign=\"top\">31/12/2022</th>\n",
       "      <th>Tropa de Elite</th>\n",
       "      <td>2</td>\n",
       "    </tr>\n",
       "    <tr>\n",
       "      <th>War Room - Subida J1BTAX e BRF PLUS</th>\n",
       "      <td>2</td>\n",
       "    </tr>\n",
       "    <tr>\n",
       "      <th>Wilson Correia Gil</th>\n",
       "      <td>4</td>\n",
       "    </tr>\n",
       "    <tr>\n",
       "      <th>[War Room] - Carga Suprimentos</th>\n",
       "      <td>4</td>\n",
       "    </tr>\n",
       "    <tr>\n",
       "      <th>conferencia carga de estoques/mr22</th>\n",
       "      <td>2</td>\n",
       "    </tr>\n",
       "  </tbody>\n",
       "</table>\n",
       "<p>81406 rows × 1 columns</p>\n",
       "</div>"
      ],
      "text/plain": [
       "                                                               Matricula\n",
       "Data       Nome da Reuni╞o                                              \n",
       "01/07/2022 -                                                           2\n",
       "           Product Analytics - integraç╞o e estrutura da área          1\n",
       "           Talita Freire da Silva                                      1\n",
       "           Tropa de Elite                                              1\n",
       "01/08/2022 -                                                          88\n",
       "...                                                                  ...\n",
       "31/12/2022 Tropa de Elite                                              2\n",
       "           War Room - Subida J1BTAX e BRF PLUS                         2\n",
       "           Wilson Correia Gil                                          4\n",
       "           [War Room] - Carga Suprimentos                              4\n",
       "           conferencia carga de estoques/mr22                          2\n",
       "\n",
       "[81406 rows x 1 columns]"
      ]
     },
     "execution_count": 24,
     "metadata": {},
     "output_type": "execute_result"
    }
   ],
   "source": [
    "interacoes_grouped = interacoes_df[[\"Data\", \"Matricula\", \"Nome da Reuni╞o\"]].groupby([\"Data\", \"Nome da Reuni╞o\"])\n",
    "# interacoes_grouped.head()\n",
    "interacoes_grouped.count()"
   ]
  },
  {
   "attachments": {},
   "cell_type": "markdown",
   "metadata": {},
   "source": [
    "##### 1.2. Infos Pessoais"
   ]
  },
  {
   "attachments": {},
   "cell_type": "markdown",
   "metadata": {},
   "source": [
    "QAAAA"
   ]
  },
  {
   "cell_type": "code",
   "execution_count": null,
   "metadata": {},
   "outputs": [],
   "source": [
    "import pandas as pd\n",
    "\n",
    "infos_pessoas_df = pd.read_csv(\"./data/in/infos_pessoas.csv\", encoding=\"cp860\")\n",
    "infos_pessoas_df.head()"
   ]
  },
  {
   "attachments": {},
   "cell_type": "markdown",
   "metadata": {},
   "source": [
    "#### 2. Treinamento de modelo"
   ]
  },
  {
   "cell_type": "code",
   "execution_count": null,
   "metadata": {},
   "outputs": [],
   "source": []
  },
  {
   "attachments": {},
   "cell_type": "markdown",
   "metadata": {},
   "source": [
    "#### 3. Resultado e validação de modelo"
   ]
  },
  {
   "cell_type": "code",
   "execution_count": null,
   "metadata": {},
   "outputs": [],
   "source": []
  }
 ],
 "metadata": {
  "kernelspec": {
   "display_name": "Python 3",
   "language": "python",
   "name": "python3"
  },
  "language_info": {
   "codemirror_mode": {
    "name": "ipython",
    "version": 3
   },
   "file_extension": ".py",
   "mimetype": "text/x-python",
   "name": "python",
   "nbconvert_exporter": "python",
   "pygments_lexer": "ipython3",
   "version": "3.10.6"
  },
  "orig_nbformat": 4
 },
 "nbformat": 4,
 "nbformat_minor": 2
}
